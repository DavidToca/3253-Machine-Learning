{
 "cells": [
  {
   "cell_type": "markdown",
   "metadata": {},
   "source": [
    "# Exercise Objective:\n",
    "\n",
    "Build an image classifier in Keras that detects fashion items from low res images. The training set contains 60,000 grayscale images, each 28x28 pixels. There are 10 classes, all different clothes items.\n",
    "\n",
    "In this work, you need to:\n",
    "\n",
    "__Exercise 1__\n",
    "1. Train a sequential, fully connected neural net to classify the clothes.\n",
    "2. Assess the performance.\n",
    "\n",
    "__Exercise 2__\n",
    "3. Train a sequential, convolutional neural net to classify the clothes.\n",
    "4. Compare the performance."
   ]
  },
  {
   "cell_type": "code",
   "execution_count": 64,
   "metadata": {},
   "outputs": [],
   "source": [
    "import numpy as np\n",
    "import pandas as pd\n",
    "import matplotlib.pyplot as plt\n",
    "\n",
    "import tensorflow as tf\n",
    "from tensorflow import keras\n",
    "\n",
    "np.random.seed(42)\n",
    "tf.random.set_seed(42)"
   ]
  },
  {
   "cell_type": "markdown",
   "metadata": {},
   "source": [
    "Let's start by loading the fashion mnist dataset as we did back in week 9."
   ]
  },
  {
   "cell_type": "code",
   "execution_count": 65,
   "metadata": {},
   "outputs": [],
   "source": [
    "fashion_mnist = keras.datasets.fashion_mnist\n",
    "(X_train_full, y_train_full), (X_test, y_test) = fashion_mnist.load_data()"
   ]
  },
  {
   "cell_type": "markdown",
   "metadata": {},
   "source": [
    "Let's make sure the input pixel data is float64. We'll also split off some validation data."
   ]
  },
  {
   "cell_type": "code",
   "execution_count": 66,
   "metadata": {},
   "outputs": [],
   "source": [
    "X_valid, X_train = X_train_full[:5000] / 255., X_train_full[5000:] / 255.\n",
    "y_valid, y_train = y_train_full[:5000], y_train_full[5000:]\n",
    "X_test = X_test / 255."
   ]
  },
  {
   "cell_type": "code",
   "execution_count": 67,
   "metadata": {},
   "outputs": [
    {
     "data": {
      "text/plain": [
       "dtype('float64')"
      ]
     },
     "execution_count": 67,
     "metadata": {},
     "output_type": "execute_result"
    }
   ],
   "source": [
    "X_train.dtype"
   ]
  },
  {
   "cell_type": "code",
   "execution_count": 68,
   "metadata": {},
   "outputs": [],
   "source": [
    "class_names = [\"T-shirt/top\", \"Trouser\", \"Pullover\", \"Dress\", \"Coat\",\n",
    "               \"Sandal\", \"Shirt\", \"Sneaker\", \"Bag\", \"Ankle boot\"]"
   ]
  },
  {
   "cell_type": "markdown",
   "metadata": {},
   "source": [
    "Let's see what the data looks like. Rerun to see more examples."
   ]
  },
  {
   "cell_type": "code",
   "execution_count": 69,
   "metadata": {},
   "outputs": [
    {
     "data": {
      "image/png": "[encoded data removed]",
      "text/plain": [
       "<Figure size 432x288 with 2 Axes>"
      ]
     },
     "metadata": {
      "needs_background": "light"
     },
     "output_type": "display_data"
    }
   ],
   "source": [
    "rand_idx = np.random.choice(range(X_train.shape[0]))\n",
    "plt.imshow(X_train[rand_idx], cmap=\"binary\")\n",
    "plt.colorbar()\n",
    "plt.axis('off')\n",
    "plt.title(class_names[y_train[rand_idx]]);"
   ]
  },
  {
   "cell_type": "markdown",
   "metadata": {},
   "source": [
    "## Exercise 1\n",
    "Build the dense model."
   ]
  },
  {
   "cell_type": "code",
   "execution_count": 70,
   "metadata": {},
   "outputs": [],
   "source": [
    "## YOUR CODE HERE ##"
   ]
  },
  {
   "cell_type": "code",
   "execution_count": 71,
   "metadata": {},
   "outputs": [],
   "source": [
    "img_size = (28, 28)\n",
    "layer_sizes = (128, 64)\n",
    "n_classes = 10"
   ]
  },
  {
   "cell_type": "code",
   "execution_count": 72,
   "metadata": {},
   "outputs": [],
   "source": [
    "from tensorflow.keras import Sequential\n",
    "from tensorflow.keras.layers import Flatten, Dense\n",
    "\n",
    "model = Sequential([\n",
    "    Flatten(input_shape=img_size),\n",
    "    Dense(layer_sizes[0], activation='selu',\n",
    "          kernel_initializer='lecun_normal'),\n",
    "    Dense(layer_sizes[1], activation='selu',\n",
    "          kernel_initializer='lecun_normal'),\n",
    "    Dense(n_classes, activation='softmax')\n",
    "])"
   ]
  },
  {
   "cell_type": "code",
   "execution_count": 73,
   "metadata": {
    "scrolled": true
   },
   "outputs": [
    {
     "name": "stdout",
     "output_type": "stream",
     "text": [
      "Model: \"sequential_4\"\n",
      "_________________________________________________________________\n",
      "Layer (type)                 Output Shape              Param #   \n",
      "=================================================================\n",
      "flatten_4 (Flatten)          (None, 784)               0         \n",
      "_________________________________________________________________\n",
      "dense_12 (Dense)             (None, 128)               100480    \n",
      "_________________________________________________________________\n",
      "dense_13 (Dense)             (None, 64)                8256      \n",
      "_________________________________________________________________\n",
      "dense_14 (Dense)             (None, 10)                650       \n",
      "=================================================================\n",
      "Total params: 109,386\n",
      "Trainable params: 109,386\n",
      "Non-trainable params: 0\n",
      "_________________________________________________________________\n"
     ]
    }
   ],
   "source": [
    "model.summary()"
   ]
  },
  {
   "cell_type": "code",
   "execution_count": 74,
   "metadata": {},
   "outputs": [],
   "source": [
    "learning_rate = 0.005\n",
    "n_epochs = 20"
   ]
  },
  {
   "cell_type": "code",
   "execution_count": 75,
   "metadata": {},
   "outputs": [],
   "source": [
    "from tensorflow.keras.optimizers import Nadam\n",
    "\n",
    "optimizer = Nadam(lr=learning_rate)"
   ]
  },
  {
   "cell_type": "code",
   "execution_count": 76,
   "metadata": {},
   "outputs": [],
   "source": [
    "model.compile(optimizer=optimizer,\n",
    "              loss='sparse_categorical_crossentropy',\n",
    "              metrics=['accuracy'])"
   ]
  },
  {
   "cell_type": "code",
   "execution_count": 77,
   "metadata": {},
   "outputs": [],
   "source": [
    "from tensorflow.keras.callbacks import ModelCheckpoint\n",
    "\n",
    "save_cb = ModelCheckpoint(\"dense_fashion_model.h5\",\n",
    "                          save_best_only=True)"
   ]
  },
  {
   "cell_type": "code",
   "execution_count": 78,
   "metadata": {
    "scrolled": true
   },
   "outputs": [
    {
     "name": "stdout",
     "output_type": "stream",
     "text": [
      "Train on 55000 samples, validate on 5000 samples\n",
      "Epoch 1/20\n",
      "55000/55000 [==============================] - 7s 124us/sample - loss: 0.5324 - accuracy: 0.8070 - val_loss: 0.4158 - val_accuracy: 0.8492\n",
      "Epoch 2/20\n",
      "55000/55000 [==============================] - 6s 116us/sample - loss: 0.4180 - accuracy: 0.8488 - val_loss: 0.4982 - val_accuracy: 0.8282\n",
      "Epoch 3/20\n",
      "55000/55000 [==============================] - 6s 115us/sample - loss: 0.3844 - accuracy: 0.8604 - val_loss: 0.3567 - val_accuracy: 0.8714\n",
      "Epoch 4/20\n",
      "55000/55000 [==============================] - 6s 113us/sample - loss: 0.3623 - accuracy: 0.8693 - val_loss: 0.3488 - val_accuracy: 0.8812\n",
      "Epoch 5/20\n",
      "55000/55000 [==============================] - 6s 115us/sample - loss: 0.3471 - accuracy: 0.8748 - val_loss: 0.3934 - val_accuracy: 0.8588\n",
      "Epoch 6/20\n",
      "55000/55000 [==============================] - 6s 115us/sample - loss: 0.3332 - accuracy: 0.8799 - val_loss: 0.3514 - val_accuracy: 0.8822\n",
      "Epoch 7/20\n",
      "55000/55000 [==============================] - 6s 115us/sample - loss: 0.3311 - accuracy: 0.8812 - val_loss: 0.3850 - val_accuracy: 0.8668\n",
      "Epoch 8/20\n",
      "55000/55000 [==============================] - 6s 113us/sample - loss: 0.3193 - accuracy: 0.8862 - val_loss: 0.4116 - val_accuracy: 0.8642\n",
      "Epoch 9/20\n",
      "55000/55000 [==============================] - 6s 115us/sample - loss: 0.3107 - accuracy: 0.8891 - val_loss: 0.3459 - val_accuracy: 0.8792\n",
      "Epoch 10/20\n",
      "55000/55000 [==============================] - 6s 114us/sample - loss: 0.3062 - accuracy: 0.8894 - val_loss: 0.3571 - val_accuracy: 0.8804\n",
      "Epoch 11/20\n",
      "55000/55000 [==============================] - 6s 115us/sample - loss: 0.3024 - accuracy: 0.8923 - val_loss: 0.3575 - val_accuracy: 0.8822\n",
      "Epoch 12/20\n",
      "55000/55000 [==============================] - 6s 114us/sample - loss: 0.2927 - accuracy: 0.8950 - val_loss: 0.3689 - val_accuracy: 0.8816\n",
      "Epoch 13/20\n",
      "55000/55000 [==============================] - 6s 115us/sample - loss: 0.2928 - accuracy: 0.8974 - val_loss: 0.3789 - val_accuracy: 0.8818\n",
      "Epoch 14/20\n",
      "55000/55000 [==============================] - 6s 115us/sample - loss: 0.2810 - accuracy: 0.8996 - val_loss: 0.3756 - val_accuracy: 0.8782\n",
      "Epoch 15/20\n",
      "55000/55000 [==============================] - 6s 115us/sample - loss: 0.2769 - accuracy: 0.9002 - val_loss: 0.3979 - val_accuracy: 0.8794\n",
      "Epoch 16/20\n",
      "55000/55000 [==============================] - 6s 115us/sample - loss: 0.2751 - accuracy: 0.9019 - val_loss: 0.3754 - val_accuracy: 0.8904\n",
      "Epoch 17/20\n",
      "55000/55000 [==============================] - 6s 104us/sample - loss: 0.2709 - accuracy: 0.9020 - val_loss: 0.3823 - val_accuracy: 0.8836\n",
      "Epoch 18/20\n",
      "55000/55000 [==============================] - 6s 116us/sample - loss: 0.2673 - accuracy: 0.9037 - val_loss: 0.3663 - val_accuracy: 0.8884\n",
      "Epoch 19/20\n",
      "55000/55000 [==============================] - 6s 114us/sample - loss: 0.2609 - accuracy: 0.9058 - val_loss: 0.4371 - val_accuracy: 0.8728\n",
      "Epoch 20/20\n",
      "55000/55000 [==============================] - 6s 111us/sample - loss: 0.2618 - accuracy: 0.9069 - val_loss: 0.3803 - val_accuracy: 0.8834\n"
     ]
    }
   ],
   "source": [
    "history = model.fit(X_train, y_train, epochs=n_epochs,\n",
    "                    validation_data=(X_valid, y_valid),\n",
    "                    callbacks=[save_cb])"
   ]
  },
  {
   "cell_type": "code",
   "execution_count": 79,
   "metadata": {},
   "outputs": [
    {
     "data": {
      "image/png": "[encoded data removed]",
      "text/plain": [
       "<Figure size 576x360 with 1 Axes>"
      ]
     },
     "metadata": {
      "needs_background": "light"
     },
     "output_type": "display_data"
    }
   ],
   "source": [
    "pd.DataFrame(history.history).plot(figsize=(8, 5))\n",
    "plt.grid(True)\n",
    "plt.gca().set_ylim(0, 1);"
   ]
  },
  {
   "cell_type": "markdown",
   "metadata": {},
   "source": [
    "Evaluate the model."
   ]
  },
  {
   "cell_type": "code",
   "execution_count": 80,
   "metadata": {},
   "outputs": [],
   "source": [
    "from tensorflow.keras.models import load_model\n",
    "\n",
    "model = load_model('dense_fashion_model.h5')"
   ]
  },
  {
   "cell_type": "code",
   "execution_count": 81,
   "metadata": {},
   "outputs": [],
   "source": [
    "y_hat = model.predict_classes(X_test)"
   ]
  },
  {
   "cell_type": "code",
   "execution_count": 82,
   "metadata": {
    "scrolled": false
   },
   "outputs": [
    {
     "data": {
      "image/png": "[encoded data removed]",
      "text/plain": [
       "<Figure size 432x288 with 1 Axes>"
      ]
     },
     "metadata": {
      "needs_background": "light"
     },
     "output_type": "display_data"
    }
   ],
   "source": [
    "def plot_prediction():\n",
    "    rand_idx = np.random.choice(range(X_test.shape[0]))\n",
    "    image = X_test[rand_idx].squeeze()\n",
    "    prediction = class_names[y_hat[rand_idx]]\n",
    "    actual = class_names[y_test[rand_idx]]\n",
    "\n",
    "    plt.imshow(image, cmap=\"binary\")\n",
    "    plt.axis('off')\n",
    "    plt.title(f\"Prediction: {prediction} (Actual: {actual})\")\n",
    "\n",
    "plot_prediction()"
   ]
  },
  {
   "cell_type": "code",
   "execution_count": 83,
   "metadata": {},
   "outputs": [
    {
     "name": "stdout",
     "output_type": "stream",
     "text": [
      "              precision    recall  f1-score   support\n",
      "\n",
      "           0       0.72      0.92      0.81      1000\n",
      "           1       0.98      0.96      0.97      1000\n",
      "           2       0.86      0.66      0.75      1000\n",
      "           3       0.89      0.87      0.88      1000\n",
      "           4       0.76      0.83      0.79      1000\n",
      "           5       0.97      0.95      0.96      1000\n",
      "           6       0.66      0.62      0.64      1000\n",
      "           7       0.92      0.96      0.94      1000\n",
      "           8       0.98      0.96      0.97      1000\n",
      "           9       0.97      0.95      0.96      1000\n",
      "\n",
      "    accuracy                           0.87     10000\n",
      "   macro avg       0.87      0.87      0.87     10000\n",
      "weighted avg       0.87      0.87      0.87     10000\n",
      "\n"
     ]
    }
   ],
   "source": [
    "from sklearn.metrics import classification_report\n",
    "\n",
    "print(classification_report(y_test, y_hat))"
   ]
  },
  {
   "cell_type": "markdown",
   "metadata": {},
   "source": [
    "## Exercise 2\n",
    "\n",
    "__NOTE:__\n",
    "It is important to add a channel dimension to images going into convolutions, even if that dimension is simply 1 (greyscale). You can unsqueeze the numpy array like so:"
   ]
  },
  {
   "cell_type": "code",
   "execution_count": 42,
   "metadata": {},
   "outputs": [
    {
     "data": {
      "text/plain": [
       "(55000, 28, 28)"
      ]
     },
     "execution_count": 42,
     "metadata": {},
     "output_type": "execute_result"
    }
   ],
   "source": [
    "X_train.shape"
   ]
  },
  {
   "cell_type": "code",
   "execution_count": 43,
   "metadata": {},
   "outputs": [],
   "source": [
    "X_train = X_train[..., None]\n",
    "X_valid = X_valid[..., None]\n",
    "X_test = X_test[..., None]"
   ]
  },
  {
   "cell_type": "code",
   "execution_count": 44,
   "metadata": {},
   "outputs": [
    {
     "data": {
      "text/plain": [
       "(55000, 28, 28, 1)"
      ]
     },
     "execution_count": 44,
     "metadata": {},
     "output_type": "execute_result"
    }
   ],
   "source": [
    "X_train.shape"
   ]
  },
  {
   "cell_type": "markdown",
   "metadata": {},
   "source": [
    "Build the convolutional model."
   ]
  },
  {
   "cell_type": "code",
   "execution_count": 45,
   "metadata": {},
   "outputs": [],
   "source": [
    "## YOUR CODE HERE ##"
   ]
  },
  {
   "cell_type": "code",
   "execution_count": 46,
   "metadata": {},
   "outputs": [],
   "source": [
    "img_size = (28, 28, 1)\n",
    "layer_sizes = (128, 64)\n",
    "n_filters = (64, 128, 256)\n",
    "kernel_sizes = (7, 3, 3)\n",
    "pool_size = 2\n",
    "drop_prob = 0.5"
   ]
  },
  {
   "cell_type": "code",
   "execution_count": 47,
   "metadata": {},
   "outputs": [],
   "source": [
    "from tensorflow.keras.layers import Conv2D, MaxPooling2D, Dropout\n",
    "\n",
    "model = Sequential([\n",
    "    Conv2D(n_filters[0], kernel_sizes[0],\n",
    "           activation='relu', padding='same',\n",
    "           input_shape=img_size),\n",
    "    MaxPooling2D(pool_size),\n",
    "    Conv2D(n_filters[1], kernel_sizes[1],\n",
    "           activation='relu', padding='same'),\n",
    "     Conv2D(n_filters[1], kernel_sizes[1],\n",
    "           activation='relu', padding='same'),\n",
    "    MaxPooling2D(pool_size),\n",
    "    Conv2D(n_filters[2], kernel_sizes[2],\n",
    "           activation='relu', padding='same'),\n",
    "    Conv2D(n_filters[2], kernel_sizes[2],\n",
    "           activation='relu', padding='same'),\n",
    "    MaxPooling2D(pool_size),\n",
    "    Flatten(),\n",
    "    Dense(layer_sizes[0], activation='relu'),\n",
    "    Dense(layer_sizes[1], activation='relu'),\n",
    "    Dropout(drop_prob),\n",
    "    Dense(n_classes, activation='softmax')\n",
    "])"
   ]
  },
  {
   "cell_type": "code",
   "execution_count": 48,
   "metadata": {},
   "outputs": [
    {
     "name": "stdout",
     "output_type": "stream",
     "text": [
      "Model: \"sequential_2\"\n",
      "_________________________________________________________________\n",
      "Layer (type)                 Output Shape              Param #   \n",
      "=================================================================\n",
      "conv2d_5 (Conv2D)            (None, 28, 28, 64)        3200      \n",
      "_________________________________________________________________\n",
      "max_pooling2d_3 (MaxPooling2 (None, 14, 14, 64)        0         \n",
      "_________________________________________________________________\n",
      "conv2d_6 (Conv2D)            (None, 14, 14, 128)       73856     \n",
      "_________________________________________________________________\n",
      "conv2d_7 (Conv2D)            (None, 14, 14, 128)       147584    \n",
      "_________________________________________________________________\n",
      "max_pooling2d_4 (MaxPooling2 (None, 7, 7, 128)         0         \n",
      "_________________________________________________________________\n",
      "conv2d_8 (Conv2D)            (None, 7, 7, 256)         295168    \n",
      "_________________________________________________________________\n",
      "conv2d_9 (Conv2D)            (None, 7, 7, 256)         590080    \n",
      "_________________________________________________________________\n",
      "max_pooling2d_5 (MaxPooling2 (None, 3, 3, 256)         0         \n",
      "_________________________________________________________________\n",
      "flatten_2 (Flatten)          (None, 2304)              0         \n",
      "_________________________________________________________________\n",
      "dense_6 (Dense)              (None, 128)               295040    \n",
      "_________________________________________________________________\n",
      "dense_7 (Dense)              (None, 64)                8256      \n",
      "_________________________________________________________________\n",
      "dropout_1 (Dropout)          (None, 64)                0         \n",
      "_________________________________________________________________\n",
      "dense_8 (Dense)              (None, 10)                650       \n",
      "=================================================================\n",
      "Total params: 1,413,834\n",
      "Trainable params: 1,413,834\n",
      "Non-trainable params: 0\n",
      "_________________________________________________________________\n"
     ]
    }
   ],
   "source": [
    "model.summary()"
   ]
  },
  {
   "cell_type": "code",
   "execution_count": 49,
   "metadata": {},
   "outputs": [],
   "source": [
    "model.compile(optimizer='nadam',\n",
    "              loss='sparse_categorical_crossentropy',\n",
    "              metrics=['accuracy'])\n",
    "\n",
    "save_cb = ModelCheckpoint(\"conv_fashion_model.h5\",\n",
    "                          save_best_only=True)"
   ]
  },
  {
   "cell_type": "code",
   "execution_count": 50,
   "metadata": {
    "scrolled": true
   },
   "outputs": [
    {
     "name": "stdout",
     "output_type": "stream",
     "text": [
      "Train on 55000 samples, validate on 5000 samples\n",
      "Epoch 1/20\n",
      "55000/55000 [==============================] - 14s 257us/sample - loss: 0.5459 - accuracy: 0.8083 - val_loss: 0.3066 - val_accuracy: 0.8816\n",
      "Epoch 2/20\n",
      "55000/55000 [==============================] - 13s 236us/sample - loss: 0.3380 - accuracy: 0.8812 - val_loss: 0.2898 - val_accuracy: 0.8928\n",
      "Epoch 3/20\n",
      "55000/55000 [==============================] - 13s 237us/sample - loss: 0.2854 - accuracy: 0.8987 - val_loss: 0.2509 - val_accuracy: 0.9064\n",
      "Epoch 4/20\n",
      "55000/55000 [==============================] - 13s 237us/sample - loss: 0.2552 - accuracy: 0.9109 - val_loss: 0.2478 - val_accuracy: 0.9136\n",
      "Epoch 5/20\n",
      "55000/55000 [==============================] - 13s 237us/sample - loss: 0.2320 - accuracy: 0.9169 - val_loss: 0.2474 - val_accuracy: 0.9118\n",
      "Epoch 6/20\n",
      "55000/55000 [==============================] - 13s 235us/sample - loss: 0.2134 - accuracy: 0.9247 - val_loss: 0.2566 - val_accuracy: 0.9124\n",
      "Epoch 7/20\n",
      "55000/55000 [==============================] - 13s 237us/sample - loss: 0.1966 - accuracy: 0.9303 - val_loss: 0.2428 - val_accuracy: 0.9216\n",
      "Epoch 8/20\n",
      "55000/55000 [==============================] - 13s 235us/sample - loss: 0.1814 - accuracy: 0.9350 - val_loss: 0.2421 - val_accuracy: 0.9204\n",
      "Epoch 9/20\n",
      "55000/55000 [==============================] - 13s 237us/sample - loss: 0.1671 - accuracy: 0.9407 - val_loss: 0.3415 - val_accuracy: 0.9026\n",
      "Epoch 10/20\n",
      "55000/55000 [==============================] - 13s 236us/sample - loss: 0.1550 - accuracy: 0.9446 - val_loss: 0.3051 - val_accuracy: 0.9110\n",
      "Epoch 11/20\n",
      "55000/55000 [==============================] - 13s 236us/sample - loss: 0.1481 - accuracy: 0.9458 - val_loss: 0.2695 - val_accuracy: 0.9206\n",
      "Epoch 12/20\n",
      "55000/55000 [==============================] - 13s 237us/sample - loss: 0.1339 - accuracy: 0.9525 - val_loss: 0.3054 - val_accuracy: 0.9154\n",
      "Epoch 13/20\n",
      "55000/55000 [==============================] - 13s 233us/sample - loss: 0.1243 - accuracy: 0.9552 - val_loss: 0.3369 - val_accuracy: 0.9146\n",
      "Epoch 14/20\n",
      "55000/55000 [==============================] - 13s 236us/sample - loss: 0.1281 - accuracy: 0.9553 - val_loss: 0.3087 - val_accuracy: 0.9172\n",
      "Epoch 15/20\n",
      "55000/55000 [==============================] - 13s 235us/sample - loss: 0.1129 - accuracy: 0.9592 - val_loss: 0.3333 - val_accuracy: 0.9206\n",
      "Epoch 16/20\n",
      "55000/55000 [==============================] - 13s 236us/sample - loss: 0.1028 - accuracy: 0.9638 - val_loss: 0.4039 - val_accuracy: 0.9184\n",
      "Epoch 17/20\n",
      "55000/55000 [==============================] - 13s 235us/sample - loss: 0.1163 - accuracy: 0.9601 - val_loss: 0.3365 - val_accuracy: 0.9212\n",
      "Epoch 18/20\n",
      "55000/55000 [==============================] - 13s 237us/sample - loss: 0.1032 - accuracy: 0.9643 - val_loss: 0.3494 - val_accuracy: 0.9184\n",
      "Epoch 19/20\n",
      "55000/55000 [==============================] - 13s 237us/sample - loss: 0.0929 - accuracy: 0.9680 - val_loss: 0.3732 - val_accuracy: 0.9166\n",
      "Epoch 20/20\n",
      "55000/55000 [==============================] - 13s 236us/sample - loss: 0.1012 - accuracy: 0.9666 - val_loss: 0.3693 - val_accuracy: 0.9228\n"
     ]
    }
   ],
   "source": [
    "history = model.fit(X_train, y_train, epochs=n_epochs,\n",
    "                    validation_data=(X_valid, y_valid),\n",
    "                    callbacks=[save_cb])"
   ]
  },
  {
   "cell_type": "code",
   "execution_count": 51,
   "metadata": {},
   "outputs": [
    {
     "data": {
      "image/png": "[encoded data removed]",
      "text/plain": [
       "<Figure size 576x360 with 1 Axes>"
      ]
     },
     "metadata": {
      "needs_background": "light"
     },
     "output_type": "display_data"
    }
   ],
   "source": [
    "pd.DataFrame(history.history).plot(figsize=(8, 5))\n",
    "plt.grid(True)\n",
    "plt.gca().set_ylim(0, 1);"
   ]
  },
  {
   "cell_type": "markdown",
   "metadata": {},
   "source": [
    "Evaluate the model."
   ]
  },
  {
   "cell_type": "code",
   "execution_count": 52,
   "metadata": {},
   "outputs": [],
   "source": [
    "## YOUR CODE HERE ##"
   ]
  },
  {
   "cell_type": "code",
   "execution_count": 53,
   "metadata": {},
   "outputs": [],
   "source": [
    "model = load_model('conv_fashion_model.h5')\n",
    "y_hat = model.predict_classes(X_test)"
   ]
  },
  {
   "cell_type": "code",
   "execution_count": 54,
   "metadata": {},
   "outputs": [
    {
     "data": {
      "image/png": "[encoded data removed]",
      "text/plain": [
       "<Figure size 432x288 with 1 Axes>"
      ]
     },
     "metadata": {
      "needs_background": "light"
     },
     "output_type": "display_data"
    }
   ],
   "source": [
    "plot_prediction()"
   ]
  },
  {
   "cell_type": "code",
   "execution_count": 55,
   "metadata": {},
   "outputs": [
    {
     "name": "stdout",
     "output_type": "stream",
     "text": [
      "              precision    recall  f1-score   support\n",
      "\n",
      "           0       0.85      0.86      0.86      1000\n",
      "           1       0.99      0.99      0.99      1000\n",
      "           2       0.81      0.90      0.85      1000\n",
      "           3       0.91      0.93      0.92      1000\n",
      "           4       0.86      0.85      0.85      1000\n",
      "           5       0.99      0.98      0.98      1000\n",
      "           6       0.80      0.69      0.74      1000\n",
      "           7       0.96      0.97      0.97      1000\n",
      "           8       0.99      0.99      0.99      1000\n",
      "           9       0.97      0.97      0.97      1000\n",
      "\n",
      "    accuracy                           0.91     10000\n",
      "   macro avg       0.91      0.91      0.91     10000\n",
      "weighted avg       0.91      0.91      0.91     10000\n",
      "\n"
     ]
    }
   ],
   "source": [
    "print(classification_report(y_test, y_hat))"
   ]
  },
  {
   "cell_type": "code",
   "execution_count": null,
   "metadata": {},
   "outputs": [],
   "source": []
  }
 ],
 "metadata": {
  "kernelspec": {
   "display_name": "Environment (conda_tensorflow2)",
   "language": "python",
   "name": "conda_tensorflow2"
  },
  "language_info": {
   "codemirror_mode": {
    "name": "ipython",
    "version": 3
   },
   "file_extension": ".py",
   "mimetype": "text/x-python",
   "name": "python",
   "nbconvert_exporter": "python",
   "pygments_lexer": "ipython3",
   "version": "3.6.9"
  }
 },
 "nbformat": 4,
 "nbformat_minor": 2
}
